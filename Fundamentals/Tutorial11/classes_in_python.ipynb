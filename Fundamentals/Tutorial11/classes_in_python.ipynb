{
 "cells": [
  {
   "cell_type": "markdown",
   "metadata": {},
   "source": [
    "## Tutorial 11 - Classes\n",
    "\n",
    "<a target=\"_blank\" href=\"https://colab.research.google.com/github/BasicCompTools/PythonforBeginners/blob/main/Fundamentals/Tutorial11/classes_in_python.ipynb\">\n",
    "  <img src=\"https://colab.research.google.com/assets/colab-badge.svg\" alt=\"Open In Colab\"/>\n",
    "</a>\n",
    "\n",
    "GitHub: https://github.com/BasicCompTools/PythonforBeginners\n",
    "\n",
    "The video for this lesson is uploaded on YouTube at this [link](https://youtu.be/okwZfJIcUv8)."
   ]
  },
  {
   "cell_type": "code",
   "execution_count": 10,
   "metadata": {},
   "outputs": [
    {
     "name": "stdout",
     "output_type": "stream",
     "text": [
      "123\n"
     ]
    }
   ],
   "source": [
    "# Initiating Python Classes\n",
    "class ClassName:\n",
    "    var1 = 123\n",
    "\n",
    "x = ClassName()\n",
    "print(x.var1)"
   ]
  },
  {
   "cell_type": "code",
   "execution_count": 11,
   "metadata": {},
   "outputs": [
    {
     "name": "stdout",
     "output_type": "stream",
     "text": [
      "Print var1 through class function: 123\n"
     ]
    }
   ],
   "source": [
    "# Using a function in a class\n",
    "class ClassName:\n",
    "    var1 = 123\n",
    "\n",
    "    def my_func(self):\n",
    "        print(f\"Print var1 through class function: {self.var1}\")\n",
    "\n",
    "x = ClassName()\n",
    "x.my_func()"
   ]
  },
  {
   "cell_type": "code",
   "execution_count": 14,
   "metadata": {},
   "outputs": [
    {
     "name": "stdout",
     "output_type": "stream",
     "text": [
      "Print var1 through class function: value_1\n",
      "Print var2 through class function: value_2\n"
     ]
    }
   ],
   "source": [
    "# Using the __init__ function.\n",
    "class ClassName:\n",
    "    def __init__(self, var1, var2) -> None:\n",
    "        self.var1 = var1\n",
    "        self.var2 = var2\n",
    "\n",
    "    def my_func(self):\n",
    "        print(f\"Print var1 through class function: {self.var1}\")\n",
    "        print(f\"Print var2 through class function: {self.var2}\")\n",
    "\n",
    "x = ClassName(var1=\"value_1\", var2=\"value_2\")\n",
    "x.my_func()"
   ]
  },
  {
   "cell_type": "code",
   "execution_count": 16,
   "metadata": {},
   "outputs": [
    {
     "name": "stdout",
     "output_type": "stream",
     "text": [
      "----------------------------------------------\n",
      "Print var1 through class function: value_1\n",
      "Print var2 through class function: value_2\n",
      "----------------------------------------------\n"
     ]
    }
   ],
   "source": [
    "# class inheritance\n",
    "class MyFancyClass(ClassName):\n",
    "    def __init__(self, var1, var2) -> None:\n",
    "        super().__init__(var1, var2)\n",
    "\n",
    "    def my_func(self):\n",
    "        print(f\"----------------------------------------------\")\n",
    "        print(f\"Print var1 through class function: {self.var1}\")\n",
    "        print(f\"Print var2 through class function: {self.var2}\")\n",
    "        print(f\"----------------------------------------------\")\n",
    "\n",
    "x = MyFancyClass(var1=\"value_1\", var2=\"value_2\")\n",
    "x.my_func()"
   ]
  },
  {
   "cell_type": "code",
   "execution_count": 21,
   "metadata": {},
   "outputs": [
    {
     "name": "stdout",
     "output_type": "stream",
     "text": [
      "----------------------------------------------\n",
      "Print var1 through class function: value_1 + value_2\n",
      "----------------------------------------------\n",
      "----------------------------------------------\n",
      "Print var1 through class function: value_1\n",
      "Print var2 through class function: value_2\n",
      "----------------------------------------------\n"
     ]
    }
   ],
   "source": [
    "# class inheritance example 2\n",
    "class MyFancyClass2(MyFancyClass):\n",
    "    def __init__(self, var1, var2) -> None:\n",
    "        super().__init__(var1, var2)\n",
    "    \n",
    "    def add_and_print(self):\n",
    "        print(f\"----------------------------------------------\")\n",
    "        print(f\"Print var1 through class function: {self.var1} + {self.var2}\")\n",
    "        print(f\"----------------------------------------------\")\n",
    "\n",
    "x = MyFancyClass2(var1=\"value_1\", var2=\"value_2\")\n",
    "x.add_and_print()\n",
    "x.my_func()"
   ]
  }
 ],
 "metadata": {
  "kernelspec": {
   "display_name": "base-dev",
   "language": "python",
   "name": "python3"
  },
  "language_info": {
   "codemirror_mode": {
    "name": "ipython",
    "version": 3
   },
   "file_extension": ".py",
   "mimetype": "text/x-python",
   "name": "python",
   "nbconvert_exporter": "python",
   "pygments_lexer": "ipython3",
   "version": "3.9.16"
  },
  "orig_nbformat": 4
 },
 "nbformat": 4,
 "nbformat_minor": 2
}
