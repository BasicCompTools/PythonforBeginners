{
 "cells": [
  {
   "cell_type": "markdown",
   "metadata": {},
   "source": [
    "## Tutorial 07 - Python Functions\n",
    "\n",
    "<a target=\"_blank\" href=\"https://colab.research.google.com/github/BasicCompTools/PythonforBeginners/blob/main/Fundamentals/Tutorial07/python_functions.ipynb\">\n",
    "  <img src=\"https://colab.research.google.com/assets/colab-badge.svg\" alt=\"Open In Colab\"/>\n",
    "</a>\n",
    "\n",
    "GitHub: https://github.com/BasicCompTools/PythonforBeginners\n",
    "\n",
    "The video for this lesson is uploaded on YouTube at this [link](https://youtu.be/XouKJENUbpE)."
   ]
  },
  {
   "cell_type": "code",
   "execution_count": 8,
   "metadata": {},
   "outputs": [
    {
     "name": "stdout",
     "output_type": "stream",
     "text": [
      "Hello World!\n"
     ]
    }
   ],
   "source": [
    "# Define a function.\n",
    "def my_function_name():\n",
    "    print(\"Hello World!\")\n",
    "\n",
    "\n",
    "my_function_name()"
   ]
  },
  {
   "cell_type": "code",
   "execution_count": 15,
   "metadata": {},
   "outputs": [
    {
     "name": "stdout",
     "output_type": "stream",
     "text": [
      "Hello World!\n",
      "The first argument is: arg_1\n",
      "The first argument is: arg_2\n"
     ]
    }
   ],
   "source": [
    "# Pass arguments\n",
    "def my_function_name(arg_1, arg_2):\n",
    "    print(\"Hello World!\")\n",
    "    print(f\"The first argument is: {arg_1}\")\n",
    "    print(f\"The first argument is: {arg_2}\")\n",
    "\n",
    "\n",
    "my_function_name(\"arg_1\", arg_2=\"arg_2\")"
   ]
  },
  {
   "cell_type": "code",
   "execution_count": 17,
   "metadata": {},
   "outputs": [
    {
     "name": "stdout",
     "output_type": "stream",
     "text": [
      "Hello World!\n",
      "The argument is: arg_1\n",
      "The argument is: arg_2\n",
      "The argument is: arg_3\n"
     ]
    }
   ],
   "source": [
    "# Arbitrary arguments\n",
    "def my_function_name(*args):\n",
    "    print(\"Hello World!\")\n",
    "    for arg in args:\n",
    "        print(f\"The argument is: {arg}\")\n",
    "\n",
    "\n",
    "my_function_name(\"arg_1\", \"arg_2\", \"arg_3\")"
   ]
  },
  {
   "cell_type": "code",
   "execution_count": 27,
   "metadata": {},
   "outputs": [
    {
     "name": "stdout",
     "output_type": "stream",
     "text": [
      "Hello World!\n",
      "The argument key is: arg_1, Value is arg_1\n",
      "The argument key is: arg_2, Value is arg_2\n",
      "The argument key is: arg_3, Value is arg_3\n"
     ]
    }
   ],
   "source": [
    "#keyword arguments\n",
    "def my_function_name(**kwargs):\n",
    "    print(\"Hello World!\")\n",
    "    for key, value in kwargs.items():\n",
    "        print(f\"The argument key is: {key}, Value is {value}\")\n",
    "\n",
    "\n",
    "my_function_name(arg_1=\"arg_1\", arg_2=\"arg_2\", arg_3=\"arg_3\")"
   ]
  },
  {
   "cell_type": "code",
   "execution_count": null,
   "metadata": {},
   "outputs": [],
   "source": [
    "# default arguments\n",
    "def my_function_name(arg_1=\"arg_1\", arg_2=\"arg_2\", arg_3=\"arg_3\"):\n",
    "    print(\"Hello World!\")\n",
    "    print(f\"The first argument is: {arg_1}\")\n",
    "    print(f\"The first argument is: {arg_2}\")\n",
    "    print(f\"The first argument is: {arg_3}\")\n",
    "\n",
    "\n",
    "my_function_name()"
   ]
  },
  {
   "cell_type": "code",
   "execution_count": 44,
   "metadata": {},
   "outputs": [
    {
     "name": "stdout",
     "output_type": "stream",
     "text": [
      "Hello World!\n",
      "The first argument is: arg_1\n",
      "The first argument is: arg_2\n",
      "The first argument is: arg_3\n",
      "arg_1arg_2arg_3\n"
     ]
    }
   ],
   "source": [
    "# force positional arguments and keyword arguments\n",
    "def my_function_name(arg_1=\"arg_1\", /, arg_2=\"arg_2\", *, arg_3):\n",
    "    print(\"Hello World!\")\n",
    "    print(f\"The first argument is: {arg_1}\")\n",
    "    print(f\"The first argument is: {arg_2}\")\n",
    "    print(f\"The first argument is: {arg_3}\")\n",
    "    return arg_1 + arg_2 + arg_3\n",
    "\n",
    "\n",
    "print(my_function_name(arg_3=\"arg_3\"))"
   ]
  },
  {
   "cell_type": "code",
   "execution_count": 51,
   "metadata": {},
   "outputs": [
    {
     "name": "stdout",
     "output_type": "stream",
     "text": [
      "[1]\n",
      "[2]\n",
      "[3]\n"
     ]
    }
   ],
   "source": [
    "# how to avoid accumulating arguments passed onto subsequent calls\n",
    "def my_function_name(a, L=None):\n",
    "    if L is None:\n",
    "        L = []\n",
    "    L.append(a)\n",
    "    print(L)\n",
    "\n",
    "\n",
    "my_function_name(1)\n",
    "my_function_name(2)\n",
    "my_function_name(3)"
   ]
  },
  {
   "cell_type": "code",
   "execution_count": 53,
   "metadata": {},
   "outputs": [
    {
     "name": "stdout",
     "output_type": "stream",
     "text": [
      "30\n"
     ]
    }
   ],
   "source": [
    "# lambda functions\n",
    "x = lambda a, b, c : a*b*c\n",
    "\n",
    "print(x(2, 5, 3))"
   ]
  }
 ],
 "metadata": {
  "kernelspec": {
   "display_name": "base-dev",
   "language": "python",
   "name": "python3"
  },
  "language_info": {
   "codemirror_mode": {
    "name": "ipython",
    "version": 3
   },
   "file_extension": ".py",
   "mimetype": "text/x-python",
   "name": "python",
   "nbconvert_exporter": "python",
   "pygments_lexer": "ipython3",
   "version": "3.11.4"
  },
  "orig_nbformat": 4
 },
 "nbformat": 4,
 "nbformat_minor": 2
}
