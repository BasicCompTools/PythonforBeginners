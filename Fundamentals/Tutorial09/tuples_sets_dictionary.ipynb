{
 "cells": [
  {
   "cell_type": "markdown",
   "metadata": {},
   "source": [
    "## Tutorial 08 - Tuples, Sets and Dictionary\n",
    "\n",
    "<a target=\"_blank\" href=\"https://colab.research.google.com/github/BasicCompTools/PythonforBeginners/blob/main/Fundamentals/Tutorial09/tuples_sets_dictionary.ipynb\">\n",
    "  <img src=\"https://colab.research.google.com/assets/colab-badge.svg\" alt=\"Open In Colab\"/>\n",
    "</a>\n",
    "\n",
    "GitHub: https://github.com/BasicCompTools/PythonforBeginners\n",
    "\n",
    "The video for this lesson is uploaded on YouTube at this [link](https://youtu.be/2jjYOvHkqeI)."
   ]
  },
  {
   "cell_type": "code",
   "execution_count": 3,
   "metadata": {},
   "outputs": [
    {
     "name": "stdout",
     "output_type": "stream",
     "text": [
      "['Apple', 'Orange', 'Banana', 'Mango']\n"
     ]
    }
   ],
   "source": [
    "# sample python list\n",
    "fruits = [\"Apple\", \"Orange\", \"Banana\", \"Mango\"]\n",
    "print(fruits)"
   ]
  },
  {
   "cell_type": "code",
   "execution_count": 5,
   "metadata": {},
   "outputs": [
    {
     "name": "stdout",
     "output_type": "stream",
     "text": [
      "('Hello!', 'World')\n",
      "('Hello!', 'World')\n"
     ]
    }
   ],
   "source": [
    "# Tuples\n",
    "my_tuple = (\"Hello!\", \"World\")\n",
    "print(my_tuple)\n",
    "\n",
    "my_tuple_without_paranthesis = \"Hello!\", \"World\"\n",
    "print(my_tuple_without_paranthesis)"
   ]
  },
  {
   "cell_type": "code",
   "execution_count": 9,
   "metadata": {},
   "outputs": [
    {
     "name": "stdout",
     "output_type": "stream",
     "text": [
      "['Apple', 'Orange', 'Banana', 'Mango']\n",
      "('Apple', 'Orange', 'Banana', 'Mango')\n",
      "['Coconut', 'Orange', 'Banana', 'Mango']\n"
     ]
    }
   ],
   "source": [
    "# Convert a list to tuple\n",
    "fruits = [\"Apple\", \"Orange\", \"Banana\", \"Mango\"]\n",
    "print(fruits)\n",
    "\n",
    "fruits_tuple = tuple(fruits)\n",
    "print(fruits_tuple)\n",
    "\n",
    "# Tuples are immutable\n",
    "fruits[0] = \"Coconut\"\n",
    "print(fruits)\n",
    "\n",
    "# not allowed in tuples\n",
    "# fruits_tuple[0] = \"Coconut\""
   ]
  },
  {
   "cell_type": "code",
   "execution_count": 11,
   "metadata": {},
   "outputs": [
    {
     "name": "stdout",
     "output_type": "stream",
     "text": [
      "()\n",
      "('Hello!',)\n"
     ]
    }
   ],
   "source": [
    "# Empty list and singleton\n",
    "empty_tuple = ()\n",
    "print(empty_tuple)\n",
    "\n",
    "singleton_tuple = \"Hello!\", # trailing comma converts to tuple\n",
    "print(singleton_tuple)"
   ]
  },
  {
   "cell_type": "code",
   "execution_count": 21,
   "metadata": {},
   "outputs": [
    {
     "name": "stdout",
     "output_type": "stream",
     "text": [
      "{'Apple', 'Mango', 'Banana', 'Orange'}\n",
      "True\n",
      "{'Banana', 'Mango'}\n",
      "{'Apple', 'Orange'}\n",
      "{'Apple', 'Mango', 'Orange', 'Banana'}\n",
      "{'Banana', 'Mango', 'Coconut', 'Orange'}\n"
     ]
    }
   ],
   "source": [
    "# Sets \n",
    "fruits_set = {\"Apple\", \"Orange\", \"Banana\", \"Mango\", \"Banana\", \"Mango\"}\n",
    "print(fruits_set)\n",
    "\n",
    "print(\"Apple\" in fruits_set)\n",
    "\n",
    "# Set operations \n",
    "fruits_set_b = {\"Apple\", \"Orange\",}\n",
    "print(fruits_set-fruits_set_b)\n",
    "\n",
    "print(fruits_set & fruits_set_b)\n",
    "print(fruits_set | fruits_set_b)\n",
    "\n",
    "# Convert list to a set\n",
    "fruits_set = set(fruits)\n",
    "print(fruits_set)"
   ]
  },
  {
   "cell_type": "code",
   "execution_count": 23,
   "metadata": {},
   "outputs": [
    {
     "name": "stdout",
     "output_type": "stream",
     "text": [
      "Red\n"
     ]
    }
   ],
   "source": [
    "# Dictionary\n",
    "fruits_color = {\"Apple\": \"Red\", \"Banana\": \"Yellow\"}\n",
    "print(fruits_color[\"Apple\"])"
   ]
  }
 ],
 "metadata": {
  "kernelspec": {
   "display_name": "base-dev",
   "language": "python",
   "name": "python3"
  },
  "language_info": {
   "codemirror_mode": {
    "name": "ipython",
    "version": 3
   },
   "file_extension": ".py",
   "mimetype": "text/x-python",
   "name": "python",
   "nbconvert_exporter": "python",
   "pygments_lexer": "ipython3",
   "version": "3.11.4"
  },
  "orig_nbformat": 4
 },
 "nbformat": 4,
 "nbformat_minor": 2
}
