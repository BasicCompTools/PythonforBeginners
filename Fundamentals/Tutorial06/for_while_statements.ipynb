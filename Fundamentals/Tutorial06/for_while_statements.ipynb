{
 "cells": [
  {
   "cell_type": "markdown",
   "metadata": {},
   "source": [
    "## Tutorial 06 - *for* and *while* statements in Python \n",
    "\n",
    "<a target=\"_blank\" href=\"https://colab.research.google.com/github/BasicCompTools/PythonforBeginners/blob/main/Fundamentals/Tutorial06/for_while_statements.ipynb\">\n",
    "  <img src=\"https://colab.research.google.com/assets/colab-badge.svg\" alt=\"Open In Colab\"/>\n",
    "</a>\n",
    "\n",
    "GitHub: https://github.com/BasicCompTools/PythonforBeginners\n",
    "\n",
    "The video for this lesson is uploaded on YouTube at this [link](https://www.youtube.com/watch?v=GPTTbsWf-og)."
   ]
  },
  {
   "cell_type": "code",
   "execution_count": 1,
   "metadata": {},
   "outputs": [
    {
     "name": "stdout",
     "output_type": "stream",
     "text": [
      "Apple\n",
      "Orange\n",
      "Banana\n",
      "Grapes\n",
      "Avocado\n",
      "Coconut\n",
      "Mango\n"
     ]
    }
   ],
   "source": [
    "# for loop on a list \n",
    "fruits = [\"Apple\", \"Orange\", \"Banana\", \"Grapes\", \"Avocado\", \"Coconut\", \"Mango\"]\n",
    "\n",
    "for fruit in fruits:\n",
    "    print(fruit)"
   ]
  },
  {
   "cell_type": "code",
   "execution_count": 4,
   "metadata": {},
   "outputs": [
    {
     "name": "stdout",
     "output_type": "stream",
     "text": [
      "0 Apple\n",
      "1 Orange\n",
      "2 Banana\n",
      "3 Grapes\n",
      "4 Avocado\n",
      "5 Coconut\n",
      "6 Mango\n"
     ]
    }
   ],
   "source": [
    "# for loop using an arithemtic progression.\n",
    "for i in range(7):\n",
    "    print(i, fruits[i])"
   ]
  },
  {
   "cell_type": "code",
   "execution_count": 10,
   "metadata": {},
   "outputs": [
    {
     "name": "stdout",
     "output_type": "stream",
     "text": [
      "Monday Apple\n",
      "Tuesday Orange\n",
      "Wednesday Banana\n",
      "Thursday Grapes\n",
      "Friday Avocado\n"
     ]
    }
   ],
   "source": [
    "# loop over dictionary\n",
    "eating_schedule = {\n",
    "    \"Monday\": \"Apple\", \n",
    "    \"Tuesday\": \"Orange\", \n",
    "    \"Wednesday\":\"Banana\", \n",
    "    \"Thursday\": \"Grapes\", \n",
    "    \"Friday\": \"Avocado\", \n",
    "    \"Saturday\": \"Coconut\", \n",
    "    \"Sunday\":\"Mango\"\n",
    "    }\n",
    "\n",
    "for day, fruit in eating_schedule.items():\n",
    "    if day == \"Saturday\":\n",
    "        break # else will not run if break is executed.\n",
    "    print(day, fruit)\n",
    "else:\n",
    "    print(\"All the values have been processed.\")\n"
   ]
  },
  {
   "cell_type": "code",
   "execution_count": 1,
   "metadata": {},
   "outputs": [
    {
     "name": "stdout",
     "output_type": "stream",
     "text": [
      "Monday Apple\n",
      "Tuesday Orange\n",
      "Wednesday Banana\n",
      "Thursday Grapes\n",
      "Friday Avocado\n"
     ]
    }
   ],
   "source": [
    "# loop over dictionary\n",
    "eating_schedule = {\n",
    "    \"Monday\": \"Apple\", \n",
    "    \"Tuesday\": \"Orange\", \n",
    "    \"Wednesday\":\"Banana\", \n",
    "    \"Thursday\": \"Grapes\", \n",
    "    \"Friday\": \"Avocado\", \n",
    "    \"Saturday\": \"Coconut\", \n",
    "    \"Sunday\":\"Mango\"\n",
    "    }\n",
    "\n",
    "for day, fruit in eating_schedule.items():\n",
    "    if day == \"Saturday\":\n",
    "        # This will break execution of the loop.\n",
    "        break  \n",
    "    print(day, fruit)\n",
    "else:\n",
    "    print(\"All the values have been processed.\")"
   ]
  },
  {
   "cell_type": "code",
   "execution_count": 2,
   "metadata": {},
   "outputs": [
    {
     "name": "stdout",
     "output_type": "stream",
     "text": [
      "Monday Apple\n",
      "Tuesday Orange\n",
      "Wednesday Banana\n",
      "Thursday Grapes\n",
      "Friday Avocado\n",
      "Sunday Mango\n",
      "All the values have been processed.\n"
     ]
    }
   ],
   "source": [
    "# loop over dictionary\n",
    "eating_schedule = {\n",
    "    \"Monday\": \"Apple\", \n",
    "    \"Tuesday\": \"Orange\", \n",
    "    \"Wednesday\":\"Banana\", \n",
    "    \"Thursday\": \"Grapes\", \n",
    "    \"Friday\": \"Avocado\", \n",
    "    \"Saturday\": \"Coconut\", \n",
    "    \"Sunday\":\"Mango\"\n",
    "    }\n",
    "\n",
    "for day, fruit in eating_schedule.items():\n",
    "    if day == \"Saturday\":\n",
    "        # This will skip the next statements and run the next iteration in the loop.\n",
    "        continue  \n",
    "    print(day, fruit)\n",
    "else:\n",
    "    print(\"All the values have been processed.\")"
   ]
  },
  {
   "cell_type": "code",
   "execution_count": 16,
   "metadata": {},
   "outputs": [
    {
     "name": "stdout",
     "output_type": "stream",
     "text": [
      "['Monday', 'Tuesday', 'Wednesday', 'Thursday', 'Friday', 'Saturday', 'Sunday']\n",
      "['Apple', 'Orange', 'Banana', 'Grapes', 'Avocado', 'Coconut', 'Mango']\n",
      "Monday Apple\n",
      "Tuesday Orange\n",
      "Wednesday Banana\n",
      "Thursday Grapes\n",
      "Friday Avocado\n",
      "Saturday Coconut\n",
      "Sunday Mango\n"
     ]
    }
   ],
   "source": [
    "days = [k for k in eating_schedule.keys()] # list of keys\n",
    "fruits = [v for v in eating_schedule.values()] # list of values\n",
    "\n",
    "print(days)\n",
    "print(fruits)\n",
    "\n",
    "# We can use zip to run loop on multiple sequences\n",
    "# There are two lists one is days and the other is fruits.\n",
    "# We can zip them together to run a loop on both values.\n",
    "\n",
    "for day, fruit in zip(days, fruits):\n",
    "    print(day, fruit)\n"
   ]
  },
  {
   "cell_type": "code",
   "execution_count": 18,
   "metadata": {},
   "outputs": [
    {
     "name": "stdout",
     "output_type": "stream",
     "text": [
      "0 Apple\n",
      "1 Orange\n",
      "2 Banana\n",
      "3 Grapes\n",
      "4 Avocado\n",
      "5 Coconut\n",
      "6 Mango\n"
     ]
    }
   ],
   "source": [
    "# enumerate helps with runnning the loop with an index and a value.\n",
    "for index, value in enumerate(fruits):\n",
    "    print(index, value)"
   ]
  },
  {
   "cell_type": "code",
   "execution_count": 19,
   "metadata": {},
   "outputs": [
    {
     "name": "stdout",
     "output_type": "stream",
     "text": [
      "Mango\n",
      "Coconut\n",
      "Avocado\n",
      "Grapes\n",
      "Banana\n",
      "Orange\n",
      "Apple\n"
     ]
    }
   ],
   "source": [
    "# We can run a loop on values of a sequence in reverse\n",
    "\n",
    "for fruit in reversed(fruits):\n",
    "    print(fruit)"
   ]
  },
  {
   "cell_type": "code",
   "execution_count": 20,
   "metadata": {},
   "outputs": [
    {
     "name": "stdout",
     "output_type": "stream",
     "text": [
      "Apple\n",
      "Avocado\n",
      "Banana\n",
      "Coconut\n",
      "Grapes\n",
      "Mango\n",
      "Orange\n"
     ]
    }
   ],
   "source": [
    "# We can run a loop on sorted values of a sequence\n",
    "for fruit in sorted(fruits):\n",
    "    print(fruit)"
   ]
  },
  {
   "cell_type": "code",
   "execution_count": 18,
   "metadata": {},
   "outputs": [
    {
     "name": "stdout",
     "output_type": "stream",
     "text": [
      "0\n",
      "1\n",
      "2\n",
      "3\n",
      "4\n"
     ]
    }
   ],
   "source": [
    "a = 0\n",
    "\n",
    "while a<5:\n",
    "    print(a)\n",
    "    a = a+1\n"
   ]
  },
  {
   "cell_type": "code",
   "execution_count": null,
   "metadata": {},
   "outputs": [],
   "source": []
  }
 ],
 "metadata": {
  "kernelspec": {
   "display_name": "base-dev",
   "language": "python",
   "name": "python3"
  },
  "language_info": {
   "codemirror_mode": {
    "name": "ipython",
    "version": 3
   },
   "file_extension": ".py",
   "mimetype": "text/x-python",
   "name": "python",
   "nbconvert_exporter": "python",
   "pygments_lexer": "ipython3",
   "version": "3.11.4"
  },
  "orig_nbformat": 4
 },
 "nbformat": 4,
 "nbformat_minor": 2
}
