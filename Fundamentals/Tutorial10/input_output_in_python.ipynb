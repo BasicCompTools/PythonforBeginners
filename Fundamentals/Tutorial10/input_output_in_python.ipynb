{
 "cells": [
  {
   "cell_type": "markdown",
   "metadata": {},
   "source": [
    "## Tutorial 10 - Input and Output Variables in Python\n",
    "\n",
    "<a target=\"_blank\" href=\"https://colab.research.google.com/github/BasicCompTools/PythonforBeginners/blob/main/Fundamentals/Tutorial10/input_output_in_python.ipynb\">\n",
    "  <img src=\"https://colab.research.google.com/assets/colab-badge.svg\" alt=\"Open In Colab\"/>\n",
    "</a>\n",
    "\n",
    "GitHub: https://github.com/BasicCompTools/PythonforBeginners\n",
    "\n",
    "The video for this lesson is uploaded on YouTube at this [link](https://youtu.be/2jjYOvHkqeI)."
   ]
  },
  {
   "cell_type": "code",
   "execution_count": 3,
   "metadata": {},
   "outputs": [
    {
     "name": "stdout",
     "output_type": "stream",
     "text": [
      "The input value is : Hello!\n"
     ]
    }
   ],
   "source": [
    "# A simple input/output operation in python\n",
    "\n",
    "# input\n",
    "x = input(\"Please enter a Value:\")\n",
    "\n",
    "# output\n",
    "print(f\"The input value is : {x}\")"
   ]
  },
  {
   "cell_type": "code",
   "execution_count": 5,
   "metadata": {},
   "outputs": [
    {
     "name": "stdout",
     "output_type": "stream",
     "text": [
      "The first argument is path to python module i.e., 'my_input_test.py'\n",
      "The input value is : Hello!\n"
     ]
    }
   ],
   "source": [
    "%%bash\n",
    "# Pass input to a python module\n",
    "python my_input_test.py Hello!"
   ]
  },
  {
   "cell_type": "markdown",
   "metadata": {},
   "source": [
    "There are other ways to input variables in Python e.g., using a csv, pickle or npy file but this will be covered for individual libraries later."
   ]
  },
  {
   "cell_type": "code",
   "execution_count": 6,
   "metadata": {},
   "outputs": [
    {
     "name": "stdout",
     "output_type": "stream",
     "text": [
      "if __name__ == \"__main__\":\n",
      "    import sys\n",
      "    print(f\"The first argument is path to python module i.e., '{sys.argv[0]}'\")\n",
      "    print(f\"The input value is : {sys.argv[1]}\")\n",
      "\n"
     ]
    }
   ],
   "source": [
    "# Reading a file\n",
    "with open(\"my_input_test.py\") as f:\n",
    "    read_data = f.read()\n",
    "\n",
    "print(read_data)"
   ]
  },
  {
   "cell_type": "code",
   "execution_count": 7,
   "metadata": {},
   "outputs": [
    {
     "name": "stdout",
     "output_type": "stream",
     "text": [
      "if __name__ == \"__main__\":\n",
      "\n",
      "    import sys\n",
      "\n",
      "    print(f\"The first argument is path to python module i.e., '{sys.argv[0]}'\")\n",
      "\n",
      "    print(f\"The input value is : {sys.argv[1]}\")\n",
      "\n"
     ]
    }
   ],
   "source": [
    "# Reading individual lines\n",
    "with open(\"my_input_test.py\") as f:\n",
    "    for line in f:\n",
    "        print(line)"
   ]
  },
  {
   "cell_type": "code",
   "execution_count": 8,
   "metadata": {},
   "outputs": [],
   "source": [
    "# Writing a file\n",
    "\n",
    "# Read a file and save in a variable read_data\n",
    "with open(\"my_input_test.py\") as f:\n",
    "    read_data = f.read()\n",
    "\n",
    "# Write the file \n",
    "# mode options are available here \n",
    "# https://docs.python.org/3/library/functions.html#open\n",
    "\n",
    "with open(\"my_input_test_copy.py\", \"w+\") as f:\n",
    "    f.write(read_data)"
   ]
  },
  {
   "cell_type": "code",
   "execution_count": 11,
   "metadata": {},
   "outputs": [
    {
     "name": "stdout",
     "output_type": "stream",
     "text": [
      "The value of pi is: 3.141592653589793\n",
      "The truncated value of pi is:  3.1416\n",
      "The value of pi is: 3.141592653589793\n",
      "The truncated value of pi is: 3.1416\n"
     ]
    }
   ],
   "source": [
    "# Formatting String Literals\n",
    "\n",
    "# f-strings start with \"f\" or \"F\"\n",
    "# write variables or literal values with \"{\" \"}\" \n",
    "import math\n",
    "pi = math.pi\n",
    "\n",
    "print(f\"The value of pi is: {pi}\")\n",
    "print(f\"The truncated value of pi is: {pi: .4f}\")\n",
    "\n",
    "print(\"The value of pi is: {0}\".format(pi))\n",
    "print(\"The truncated value of pi is: {0:.4f}\".format(pi))"
   ]
  }
 ],
 "metadata": {
  "kernelspec": {
   "display_name": "base-dev",
   "language": "python",
   "name": "python3"
  },
  "language_info": {
   "codemirror_mode": {
    "name": "ipython",
    "version": 3
   },
   "file_extension": ".py",
   "mimetype": "text/x-python",
   "name": "python",
   "nbconvert_exporter": "python",
   "pygments_lexer": "ipython3",
   "version": "3.11.4"
  },
  "orig_nbformat": 4
 },
 "nbformat": 4,
 "nbformat_minor": 2
}
