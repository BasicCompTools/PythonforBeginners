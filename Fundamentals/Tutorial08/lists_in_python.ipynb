{
 "cells": [
  {
   "cell_type": "markdown",
   "metadata": {},
   "source": [
    "## Tutorial 08 - Python Lists\n",
    "\n",
    "<a target=\"_blank\" href=\"https://colab.research.google.com/github/BasicCompTools/PythonforBeginners/blob/main/Fundamentals/Tutorial08/lists_in_python.ipynb\">\n",
    "  <img src=\"https://colab.research.google.com/assets/colab-badge.svg\" alt=\"Open In Colab\"/>\n",
    "</a>\n",
    "\n",
    "GitHub: https://github.com/BasicCompTools/PythonforBeginners\n",
    "\n",
    "The video for this lesson is uploaded on YouTube at this [link](https://youtu.be/XouKJENUbpE)."
   ]
  },
  {
   "cell_type": "code",
   "execution_count": 1,
   "metadata": {},
   "outputs": [
    {
     "name": "stdout",
     "output_type": "stream",
     "text": [
      "[1, 4, 9, 16, 25]\n",
      "['Apple', 'Orange', 'Banana', 'Grapes', 'Avocado', 'Coconut', 'Mango']\n"
     ]
    }
   ],
   "source": [
    "# Creating a List\n",
    "squares = [1, 4, 9, 16, 25]\n",
    "print(squares)\n",
    "\n",
    "fruits = [\"Apple\", \"Orange\", \"Banana\", \"Grapes\", \"Avocado\", \"Coconut\", \"Mango\"]\n",
    "print(fruits)"
   ]
  },
  {
   "cell_type": "code",
   "execution_count": 2,
   "metadata": {},
   "outputs": [
    {
     "name": "stdout",
     "output_type": "stream",
     "text": [
      "[[1, 4, 9, 16, 25], ['Apple', 'Orange', 'Banana', 'Grapes', 'Avocado', 'Coconut', 'Mango']]\n"
     ]
    }
   ],
   "source": [
    "# Nested Lists\n",
    "nested_list = [squares, fruits]\n",
    "print(nested_list)"
   ]
  },
  {
   "cell_type": "code",
   "execution_count": 3,
   "metadata": {},
   "outputs": [
    {
     "name": "stdout",
     "output_type": "stream",
     "text": [
      "Apple\n",
      "Mango\n",
      "['Avocado', 'Coconut', 'Mango']\n"
     ]
    }
   ],
   "source": [
    "# Indexing Lists\n",
    "print(fruits[0]) # first element\n",
    "print(fruits[-1]) # last element\n",
    "print(fruits[-3:]) # last three elements in the list"
   ]
  },
  {
   "cell_type": "code",
   "execution_count": 4,
   "metadata": {},
   "outputs": [
    {
     "name": "stdout",
     "output_type": "stream",
     "text": [
      "['Strawberry', 'Orange', 'Banana', 'Grapes', 'Avocado', 'Coconut', 'Mango']\n"
     ]
    }
   ],
   "source": [
    "# Lists are mutable\n",
    "fruits[0] = \"Strawberry\"\n",
    "print(fruits)"
   ]
  },
  {
   "cell_type": "code",
   "execution_count": 5,
   "metadata": {},
   "outputs": [
    {
     "name": "stdout",
     "output_type": "stream",
     "text": [
      "['Avocado', 'Coconut', 'Mango']\n"
     ]
    }
   ],
   "source": [
    "# Slicing a new Lists\n",
    "my_new_fruits_list = fruits[-3:]\n",
    "print(my_new_fruits_list)"
   ]
  },
  {
   "cell_type": "code",
   "execution_count": 6,
   "metadata": {},
   "outputs": [
    {
     "name": "stdout",
     "output_type": "stream",
     "text": [
      "['Strawberry', 'Orange', 'Banana', 'Grapes', 'Avocado', 'Coconut', 'Mango']\n",
      "['Strawberry', 'Orange', 'Banana', 'Grapes', 'Avocado', 'Coconut', 'Mango']\n"
     ]
    }
   ],
   "source": [
    "# Creating a Shallow Copy\n",
    "my_copy = fruits[:]\n",
    "print(my_copy)\n",
    "my_list_copy = fruits.copy()\n",
    "print(my_list_copy)"
   ]
  },
  {
   "cell_type": "code",
   "execution_count": 7,
   "metadata": {},
   "outputs": [
    {
     "name": "stdout",
     "output_type": "stream",
     "text": [
      "['Strawberry', 'Orange', 'Banana', 'Grapes', 'Avocado', 'Coconut', 'Mango', 'Apple']\n"
     ]
    }
   ],
   "source": [
    "# Append an element to a list\n",
    "fruits.append(\"Apple\")\n",
    "print(fruits)"
   ]
  },
  {
   "cell_type": "code",
   "execution_count": 8,
   "metadata": {},
   "outputs": [
    {
     "name": "stdout",
     "output_type": "stream",
     "text": [
      "[1, 4, 9, 16, 25, 36, 49, 64, 81, 100]\n"
     ]
    }
   ],
   "source": [
    "# Extend a list\n",
    "squares.extend((36, 49, 64, 81, 100))\n",
    "print(squares)"
   ]
  },
  {
   "cell_type": "code",
   "execution_count": 9,
   "metadata": {},
   "outputs": [
    {
     "name": "stdout",
     "output_type": "stream",
     "text": [
      "['Strawberry', 'Orange', 'Banana', 'Grapes', 'Avocado', 'Coconut', 'Mango', 'Apple', 1, 4, 9, 16, 25, 36, 49, 64, 81, 100]\n"
     ]
    }
   ],
   "source": [
    "# List Concatenation\n",
    "concatenated_list = fruits + squares\n",
    "print(concatenated_list)"
   ]
  },
  {
   "cell_type": "code",
   "execution_count": 10,
   "metadata": {},
   "outputs": [
    {
     "name": "stdout",
     "output_type": "stream",
     "text": [
      "['Orange', 'Banana', 'Grapes', 'Avocado', 'Coconut', 'Mango', 'Apple']\n"
     ]
    }
   ],
   "source": [
    "# Removing an element\n",
    "fruits.remove(\"Strawberry\")\n",
    "print(fruits)"
   ]
  },
  {
   "cell_type": "code",
   "execution_count": 11,
   "metadata": {},
   "outputs": [
    {
     "name": "stdout",
     "output_type": "stream",
     "text": [
      "['Orange', 'Grapes', 'Avocado', 'Coconut', 'Mango', 'Apple']\n",
      "Banana\n"
     ]
    }
   ],
   "source": [
    "# \"pop\" an element from a list\n",
    "fruit = fruits.pop(1)\n",
    "print(fruits)\n",
    "print(fruit)"
   ]
  },
  {
   "cell_type": "code",
   "execution_count": 12,
   "metadata": {},
   "outputs": [
    {
     "name": "stdout",
     "output_type": "stream",
     "text": [
      "['Orange', 'Grapes', 'Avocado', 'Coconut', 'Mango', 'Apple', 'Apple']\n",
      "2\n"
     ]
    }
   ],
   "source": [
    "# Counting number of times an item appears in the list\n",
    "fruits.append(\"Apple\")\n",
    "print(fruits)\n",
    "print(fruits.count(\"Apple\"))"
   ]
  },
  {
   "cell_type": "code",
   "execution_count": 13,
   "metadata": {},
   "outputs": [
    {
     "name": "stdout",
     "output_type": "stream",
     "text": [
      "['Apple', 'Apple', 'Avocado', 'Coconut', 'Grapes', 'Mango', 'Orange']\n",
      "['Orange', 'Mango', 'Grapes', 'Coconut', 'Avocado', 'Apple', 'Apple']\n"
     ]
    }
   ],
   "source": [
    "# Sorting a list\n",
    "fruits.sort()\n",
    "print(fruits)\n",
    "\n",
    "fruits.reverse()\n",
    "print(fruits)"
   ]
  },
  {
   "cell_type": "code",
   "execution_count": 14,
   "metadata": {},
   "outputs": [
    {
     "name": "stdout",
     "output_type": "stream",
     "text": [
      "[1, 4, 9, 16, 25, 36, 49, 64, 81, 100]\n",
      "[1, 4, 9, 16, 25, 36, 49, 64, 81, 100, 64, 81]\n",
      "81\n",
      "[1, 4, 9, 16, 25, 36, 49, 64, 81, 100, 64]\n",
      "64\n",
      "[1, 4, 9, 16, 25, 36, 49, 64, 81, 100]\n"
     ]
    }
   ],
   "source": [
    "# list as a stack (\"last-in, first-out\")\n",
    "stack = squares[:]\n",
    "print(stack)\n",
    "stack.append(64)\n",
    "stack.append(81)\n",
    "print(stack)\n",
    "print(stack.pop())\n",
    "print(stack)\n",
    "print(stack.pop())\n",
    "print(stack)"
   ]
  },
  {
   "cell_type": "code",
   "execution_count": 15,
   "metadata": {},
   "outputs": [
    {
     "name": "stdout",
     "output_type": "stream",
     "text": [
      "[0, 1, 4, 9, 16, 25, 36, 49, 64, 81]\n",
      "[0, 1, 4, 9, 16, 25, 36, 49, 64, 81]\n"
     ]
    }
   ],
   "source": [
    "# list comprehension\n",
    "squares = []  # general approach\n",
    "for x in range(10):\n",
    "    squares.append(x**2)\n",
    "print(squares)\n",
    "\n",
    "# Using list comprehension\n",
    "squares = [x**2 for x in range(10)]\n",
    "print(squares)"
   ]
  },
  {
   "cell_type": "code",
   "execution_count": 16,
   "metadata": {},
   "outputs": [
    {
     "name": "stdout",
     "output_type": "stream",
     "text": [
      "[]\n",
      "[]\n"
     ]
    }
   ],
   "source": [
    "# Clear a list \n",
    "fruits.clear()\n",
    "print(fruits)\n",
    "\n",
    "squares[:] = []\n",
    "print(squares)"
   ]
  }
 ],
 "metadata": {
  "kernelspec": {
   "display_name": "base-dev",
   "language": "python",
   "name": "python3"
  },
  "language_info": {
   "codemirror_mode": {
    "name": "ipython",
    "version": 3
   },
   "file_extension": ".py",
   "mimetype": "text/x-python",
   "name": "python",
   "nbconvert_exporter": "python",
   "pygments_lexer": "ipython3",
   "version": "3.11.4"
  },
  "orig_nbformat": 4
 },
 "nbformat": 4,
 "nbformat_minor": 2
}
