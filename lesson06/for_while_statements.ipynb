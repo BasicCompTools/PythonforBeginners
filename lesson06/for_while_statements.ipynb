{
 "cells": [
  {
   "cell_type": "markdown",
   "metadata": {},
   "source": [
    "## Lesson 06 - *for* and *while* statements in Python \n",
    "\n",
    "<a target=\"_blank\" href=\"https://colab.research.google.com/github/BasicCompTools/PythonforBeginners/blob/main/lesson06/if_match_statements.ipynb\">\n",
    "  <img src=\"https://colab.research.google.com/assets/colab-badge.svg\" alt=\"Open In Colab\"/>\n",
    "</a>\n",
    "\n",
    "GitHub: https://github.com/BasicCompTools/PythonforBeginners\n",
    "\n",
    "The video for this lesson is uploaded on YouTube at this [link](https://youtu.be/OJTtacKzaBE)."
   ]
  },
  {
   "cell_type": "code",
   "execution_count": 1,
   "metadata": {},
   "outputs": [
    {
     "name": "stdout",
     "output_type": "stream",
     "text": [
      "Apple\n",
      "Orange\n",
      "Banana\n",
      "Grapes\n",
      "Avocado\n",
      "Coconut\n",
      "Mango\n"
     ]
    }
   ],
   "source": [
    "# for loop on a list \n",
    "fruits = [\"Apple\", \"Orange\", \"Banana\", \"Grapes\", \"Avocado\", \"Coconut\", \"Mango\"]\n",
    "\n",
    "for fruit in fruits:\n",
    "    print(fruit)"
   ]
  },
  {
   "cell_type": "code",
   "execution_count": 3,
   "metadata": {},
   "outputs": [
    {
     "name": "stdout",
     "output_type": "stream",
     "text": [
      "0 Apple\n",
      "1 Orange\n",
      "2 Banana\n",
      "3 Grapes\n",
      "4 Avocado\n"
     ]
    }
   ],
   "source": [
    "# for loop using an arithemtic progression.\n",
    "for i in range(5):\n",
    "    print(i, fruits[i])"
   ]
  },
  {
   "cell_type": "code",
   "execution_count": 9,
   "metadata": {},
   "outputs": [
    {
     "name": "stdout",
     "output_type": "stream",
     "text": [
      "Monday Apple\n",
      "Tuesday Orange\n",
      "Wednesday Banana\n",
      "Thursday Grapes\n",
      "Saturday Coconut\n",
      "Sunday Mango\n"
     ]
    }
   ],
   "source": [
    "# loop over dictionary\n",
    "eating_schedule = {\n",
    "    \"Monday\": \"Apple\", \n",
    "    \"Tuesday\": \"Orange\", \n",
    "    \"Wednesday\":\"Banana\", \n",
    "    \"Thursday\": \"Grapes\", \n",
    "    \"Friday\": \"Avocado\", \n",
    "    \"Saturday\": \"Coconut\", \n",
    "    \"Sunday\":\"Mango\"\n",
    "    }\n",
    "\n",
    "for day, fruit in eating_schedule.items():\n",
    "    if day == \"Friday\":\n",
    "        continue    \n",
    "    print(day, fruit)"
   ]
  },
  {
   "cell_type": "code",
   "execution_count": 18,
   "metadata": {},
   "outputs": [
    {
     "name": "stdout",
     "output_type": "stream",
     "text": [
      "0\n",
      "1\n",
      "2\n",
      "3\n",
      "4\n"
     ]
    }
   ],
   "source": [
    "a = 0\n",
    "\n",
    "while a<5:\n",
    "    print(a)\n",
    "    a = a+1\n"
   ]
  },
  {
   "cell_type": "code",
   "execution_count": null,
   "metadata": {},
   "outputs": [],
   "source": []
  }
 ],
 "metadata": {
  "kernelspec": {
   "display_name": "base-dev",
   "language": "python",
   "name": "python3"
  },
  "language_info": {
   "codemirror_mode": {
    "name": "ipython",
    "version": 3
   },
   "file_extension": ".py",
   "mimetype": "text/x-python",
   "name": "python",
   "nbconvert_exporter": "python",
   "pygments_lexer": "ipython3",
   "version": "3.11.4"
  },
  "orig_nbformat": 4
 },
 "nbformat": 4,
 "nbformat_minor": 2
}
