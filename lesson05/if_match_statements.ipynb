{
 "cells": [
  {
   "cell_type": "markdown",
   "metadata": {},
   "source": [
    "## Lesson 05 - *if* and *match* statements in Python \n",
    "\n",
    "<a target=\"_blank\" href=\"https://colab.research.google.com/github/BasicCompTools/PythonforBeginners/blob/main/lesson05/if_match_statements.ipynb\">\n",
    "  <img src=\"https://colab.research.google.com/assets/colab-badge.svg\" alt=\"Open In Colab\"/>\n",
    "</a>\n",
    "\n",
    "GitHub: https://github.com/BasicCompTools/PythonforBeginners\n",
    "\n",
    "The video for this lesson is uploaded on YouTube at this [link](https://youtu.be/OJTtacKzaBE)."
   ]
  },
  {
   "cell_type": "code",
   "execution_count": 33,
   "metadata": {},
   "outputs": [
    {
     "name": "stdout",
     "output_type": "stream",
     "text": [
      "The Value of x is negative.\n"
     ]
    }
   ],
   "source": [
    "x = -2\n",
    "\n",
    "if x==0: \n",
    "    print(\"The Value of 'x' is Zero.\")\n",
    "elif x<0:\n",
    "    print(\"The Value of x is negative.\")\n",
    "elif x==1:\n",
    "    print(\"The Value of 'x' is 1.\")\n",
    "else:\n",
    "    print(\"The Value of 'x' is greater than 1.\")"
   ]
  },
  {
   "cell_type": "code",
   "execution_count": 35,
   "metadata": {},
   "outputs": [
    {
     "name": "stdout",
     "output_type": "stream",
     "text": [
      "The Value of 'x' is not Zero.\n"
     ]
    }
   ],
   "source": [
    "x = 1\n",
    "print(\"The Value of 'x' is Zero.\") if x==0 else print(\"The Value of 'x' is not Zero.\")"
   ]
  },
  {
   "cell_type": "code",
   "execution_count": 6,
   "metadata": {},
   "outputs": [],
   "source": [
    "x = -1\n",
    "y = False\n",
    "\n",
    "match x:\n",
    "    case 0:\n",
    "        print(\"The Value of 'x' is Zero.\")\n",
    "    case 1:\n",
    "        print(\"The Value of 'x' is One.\")\n",
    "    case _ if y is True:\n",
    "        print(\"The Value of 'x' is not equal to Zero or One.\")"
   ]
  }
 ],
 "metadata": {
  "kernelspec": {
   "display_name": "base-dev",
   "language": "python",
   "name": "python3"
  },
  "language_info": {
   "codemirror_mode": {
    "name": "ipython",
    "version": 3
   },
   "file_extension": ".py",
   "mimetype": "text/x-python",
   "name": "python",
   "nbconvert_exporter": "python",
   "pygments_lexer": "ipython3",
   "version": "3.11.4"
  },
  "orig_nbformat": 4
 },
 "nbformat": 4,
 "nbformat_minor": 2
}
